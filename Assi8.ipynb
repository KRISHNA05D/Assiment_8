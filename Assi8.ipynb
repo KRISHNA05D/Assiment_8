{
 "cells": [
  {
   "cell_type": "markdown",
   "id": "a9afe465-6e7d-4a20-91e2-3085ef975d21",
   "metadata": {},
   "source": [
    "Q.1 You are writing code for a company. The requirement of the company is that you create a python\n",
    "function that will check whether the password entered by the user is correct or not. The function should\n",
    "take the password as input and return the string “Valid Password” if the entered password follows the\n",
    "below-given password guidelines else it should return “Invalid Password”.\n",
    "\n",
    "Note: 1. The Password should contain at least two uppercase letters and at least two lowercase letters.\n",
    "2. The Password should contain at least a number and three special characters.\n",
    "3. The length of the password should be 10 characters long."
   ]
  },
  {
   "cell_type": "code",
   "execution_count": 10,
   "id": "14b8eb69-5ce7-4723-a765-e7c89e6edf36",
   "metadata": {},
   "outputs": [],
   "source": [
    "import string\n",
    "def Password(Enter_password):\n",
    "    if len(Enter_password) !=10:\n",
    "        return \"Invalid Password\"\n",
    "    upper_count=0\n",
    "    lower_count=0\n",
    "    special_count=0\n",
    "    num_count=0\n",
    "    special_characters = string.punctuation\n",
    "    for char in Enter_password:\n",
    "        if char.isupper():\n",
    "            upper_count+=1\n",
    "        elif char.islower():\n",
    "            lower_count+=1\n",
    "        elif char.isdigit():\n",
    "            num_count+=1\n",
    "        else:\n",
    "            char in special_characters\n",
    "            special_count+=1\n",
    "    if upper_count>=2 and lower_count>=2 and num_count>0 and special_count>2:\n",
    "        return \"Valid Password\"\n",
    "    else:\n",
    "        return \"Invalid Password\"\n",
    "    "
   ]
  },
  {
   "cell_type": "code",
   "execution_count": 11,
   "id": "a4374bf8-3f4a-4c15-9b7e-a0c2e089e1ce",
   "metadata": {},
   "outputs": [
    {
     "data": {
      "text/plain": [
       "'Valid Password'"
      ]
     },
     "execution_count": 11,
     "metadata": {},
     "output_type": "execute_result"
    }
   ],
   "source": [
    "Password('KRis@#!%12')"
   ]
  },
  {
   "cell_type": "raw",
   "id": "54008fb5-a3db-41e5-9f5f-7a109db654b8",
   "metadata": {},
   "source": [
    "Q.2\n",
    "Solve the below-given questions using at least one of the following:\n",
    "1. Lambda functioJ\n",
    "2. Filter functioJ\n",
    "3. Zap functioJ\n",
    "4. List ComprehensioI"
   ]
  },
  {
   "cell_type": "raw",
   "id": "b99d9b55-c959-4a09-938a-a09dd6a13558",
   "metadata": {},
   "source": [
    "1. Check if the string starts with a particular letter.\n",
    "2. Check if the string is numeric.\n",
    "3. Sort a list of tuples having fruit names and their quantity. [(\"mango\",99),(\"orange\",80), (\"grapes\", 1000)]\n",
    "4. Find the squares of numbers from 1 to 10.\n",
    "5. Find the cube root of numbers from 1 to 10.\n",
    "6. Check if a given number is even.\n",
    "7. Filter odd numbers from the given list.\n",
    "[1,2,3,4,5,6,7,8,9,10]\n",
    "8. Sort a list of integers into positive and negative integers lists.\n",
    "[1,2,3,4,5,6,-1,-2,-3,-4,-5,0]"
   ]
  },
  {
   "cell_type": "code",
   "execution_count": 5,
   "id": "118f8450-939b-4b22-8a87-0626e16c847d",
   "metadata": {},
   "outputs": [],
   "source": [
    "# 1. Check if the string starts with a particular letter.\n",
    "s=\"MS DHONI\"\n",
    "a=lambda x: \"Yes this String's first letter is 'M'\" if x[0]=='M' else 'Error'"
   ]
  },
  {
   "cell_type": "code",
   "execution_count": 6,
   "id": "f3f4da80-20d0-439a-8e79-3ccbd73d8a78",
   "metadata": {},
   "outputs": [
    {
     "data": {
      "text/plain": [
       "\"Yes this String's first letter is 'M'\""
      ]
     },
     "execution_count": 6,
     "metadata": {},
     "output_type": "execute_result"
    }
   ],
   "source": [
    "a(s)"
   ]
  },
  {
   "cell_type": "code",
   "execution_count": 30,
   "id": "1dfff36a-b7cd-4a3a-8ce1-e5e09e936ca3",
   "metadata": {},
   "outputs": [
    {
     "name": "stdout",
     "output_type": "stream",
     "text": [
      "Is '12345' numeric? True\n",
      "Is 'abcde' numeric? False\n",
      "Is '123abc' numeric? False\n",
      "Is '' numeric? False\n"
     ]
    }
   ],
   "source": [
    "# 2. Check if the string is numeric.\n",
    "is_numeric = lambda s: s.isdigit()\n",
    "test_strings = [\"12345\", \"abcde\", \"123abc\", \"\"]\n",
    "for s in test_strings:\n",
    "    print(f\"Is '{s}' numeric? {is_numeric(s)}\")\n"
   ]
  },
  {
   "cell_type": "code",
   "execution_count": 42,
   "id": "efc066d0-7cde-4576-b887-f5574a20e2cb",
   "metadata": {},
   "outputs": [
    {
     "name": "stdout",
     "output_type": "stream",
     "text": [
      "[('orange', 80), ('mango', 99), ('grapes', 1000)]\n"
     ]
    }
   ],
   "source": [
    "# 3. Sort a list of tuples having fruit names and their quantity. [(\"mango\",99),(\"orange\",80), (\"grapes\", 1000)]\n",
    "L=[(\"mango\",99),(\"orange\",80), (\"grapes\", 1000)]\n",
    "a=sorted(L,key=lambda x:x[1])\n",
    "print(a)"
   ]
  },
  {
   "cell_type": "code",
   "execution_count": 49,
   "id": "f90519da-f2b5-4a57-a9f5-8f9deac8a09d",
   "metadata": {},
   "outputs": [],
   "source": [
    "# 4. Find the squares of numbers from 1 to 10.\n",
    "l=[1,2,3,4,5,6,7,8,9,10]\n",
    "a=lambda x: x**2\n"
   ]
  },
  {
   "cell_type": "code",
   "execution_count": 51,
   "id": "facbd28c-76ce-4f9c-ac15-8c67055c9a54",
   "metadata": {},
   "outputs": [
    {
     "data": {
      "text/plain": [
       "[1, 4, 9, 16, 25, 36, 49, 64, 81, 100]"
      ]
     },
     "execution_count": 51,
     "metadata": {},
     "output_type": "execute_result"
    }
   ],
   "source": [
    "list(map(a,l))"
   ]
  },
  {
   "cell_type": "code",
   "execution_count": 56,
   "id": "eb2f725b-e50b-489d-a4a1-2ff95f3e3fb2",
   "metadata": {},
   "outputs": [
    {
     "name": "stdout",
     "output_type": "stream",
     "text": [
      "[0.0, 1.0, 1.2599210498948732, 1.4422495703074083, 1.5874010519681994, 1.7099759466766968, 1.8171205928321397, 1.912931182772389, 2.0, 2.080083823051904, 2.154434690031884]\n"
     ]
    }
   ],
   "source": [
    "# 5. Find the cube root of numbers from 1 to 10.\n",
    "Num=list(range(0,11))\n",
    "C_b=list(map(lambda c :c**(1/3),Num))\n",
    "print(C_b)"
   ]
  },
  {
   "cell_type": "code",
   "execution_count": 3,
   "id": "cbd79cbc-4942-4cc9-bffa-7e56dec1dd01",
   "metadata": {},
   "outputs": [
    {
     "name": "stdin",
     "output_type": "stream",
     "text": [
      "Enter any number 12\n"
     ]
    },
    {
     "name": "stdout",
     "output_type": "stream",
     "text": [
      "Number is Even\n"
     ]
    }
   ],
   "source": [
    "# 6. Check if a given number is even.\n",
    "Num = int(input(\"Enter any number\"))\n",
    "A=lambda x:\"Number is Even\" if x%2==0 else \"Number is Odd\"\n",
    "print(A(Num))"
   ]
  },
  {
   "cell_type": "code",
   "execution_count": 8,
   "id": "b2000df4-e6fd-4997-aa58-0b4e59a60592",
   "metadata": {},
   "outputs": [
    {
     "name": "stdout",
     "output_type": "stream",
     "text": [
      "[1, 3, 5, 7, 9]\n"
     ]
    }
   ],
   "source": [
    "# 7.Filter odd numbers from the given list.\n",
    "L=[1,2,3,4,5,6,7,8,9,4]\n",
    "print(list(filter(lambda x:x%2!=0,L)))"
   ]
  },
  {
   "cell_type": "code",
   "execution_count": 10,
   "id": "cb3bf0a7-3569-474c-b098-a6608af60b08",
   "metadata": {},
   "outputs": [
    {
     "name": "stdout",
     "output_type": "stream",
     "text": [
      "[-5, -4, -3, -2, -1, 0, 1, 2, 3, 4, 5, 6]\n"
     ]
    }
   ],
   "source": [
    "# 8.Sort a list of integers into positive and negative integers lists.\n",
    "L=[1,2,3,4,5,6,-1,-2,-3,-4,-5,0]\n",
    "Sort=sorted(L)\n",
    "print(Sort)"
   ]
  },
  {
   "cell_type": "code",
   "execution_count": null,
   "id": "7ddfb1b8-5437-4b0e-9417-26299778ab15",
   "metadata": {},
   "outputs": [],
   "source": []
  }
 ],
 "metadata": {
  "kernelspec": {
   "display_name": "Python 3 (ipykernel)",
   "language": "python",
   "name": "python3"
  },
  "language_info": {
   "codemirror_mode": {
    "name": "ipython",
    "version": 3
   },
   "file_extension": ".py",
   "mimetype": "text/x-python",
   "name": "python",
   "nbconvert_exporter": "python",
   "pygments_lexer": "ipython3",
   "version": "3.10.8"
  }
 },
 "nbformat": 4,
 "nbformat_minor": 5
}
